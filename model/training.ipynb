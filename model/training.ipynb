{
  "cells": [
    {
      "cell_type": "code",
      "execution_count": 1,
      "metadata": {
        "colab": {
          "base_uri": "https://localhost:8080/"
        },
        "id": "Y-v-b7ExmFyB",
        "outputId": "159971a4-179c-4eca-fd01-d8194f25209a"
      },
      "outputs": [
        {
          "name": "stderr",
          "output_type": "stream",
          "text": [
            "C:\\Users\\nurka\\AppData\\Roaming\\Python\\Python312\\site-packages\\tqdm\\auto.py:21: TqdmWarning: IProgress not found. Please update jupyter and ipywidgets. See https://ipywidgets.readthedocs.io/en/stable/user_install.html\n",
            "  from .autonotebook import tqdm as notebook_tqdm\n"
          ]
        },
        {
          "name": "stdout",
          "output_type": "stream",
          "text": [
            "Warning: Looks like you're using an outdated `kagglehub` version, please consider updating (latest version: 0.3.6)\n",
            "Downloading from https://www.kaggle.com/api/v1/datasets/download/asaniczka/top-spotify-songs-in-73-countries-daily-updated?dataset_version_number=457...\n"
          ]
        },
        {
          "name": "stderr",
          "output_type": "stream",
          "text": [
            "100%|██████████| 121M/121M [00:40<00:00, 3.12MB/s] "
          ]
        },
        {
          "name": "stdout",
          "output_type": "stream",
          "text": [
            "Extracting files...\n"
          ]
        },
        {
          "name": "stderr",
          "output_type": "stream",
          "text": [
            "\n"
          ]
        },
        {
          "name": "stdout",
          "output_type": "stream",
          "text": [
            "Path to dataset files: C:\\Users\\nurka\\.cache\\kagglehub\\datasets\\asaniczka\\top-spotify-songs-in-73-countries-daily-updated\\versions\\457\n"
          ]
        }
      ],
      "source": [
        "import kagglehub\n",
        "\n",
        "# Download latest version\n",
        "path = kagglehub.dataset_download(\"asaniczka/top-spotify-songs-in-73-countries-daily-updated\")\n",
        "\n",
        "print(\"Path to dataset files:\", path)"
      ]
    },
    {
      "cell_type": "code",
      "execution_count": 2,
      "metadata": {
        "id": "pbupE309mFyD"
      },
      "outputs": [],
      "source": [
        "import pandas as pd\n",
        "import numpy as np\n",
        "import matplotlib.pyplot as plt\n",
        "import tensorflow as tf\n",
        "from sklearn.preprocessing import StandardScaler\n",
        "from sklearn.model_selection import train_test_split\n",
        "from sklearn.metrics.pairwise import cosine_similarity\n",
        "from sklearn.feature_extraction.text import TfidfVectorizer"
      ]
    },
    {
      "cell_type": "code",
      "execution_count": 3,
      "metadata": {
        "colab": {
          "base_uri": "https://localhost:8080/",
          "height": 394
        },
        "id": "6GjETqQWmFyD",
        "outputId": "1be8c5a0-ca43-4260-a257-4ebd853f3b65"
      },
      "outputs": [
        {
          "data": {
            "text/html": [
              "<div>\n",
              "<style scoped>\n",
              "    .dataframe tbody tr th:only-of-type {\n",
              "        vertical-align: middle;\n",
              "    }\n",
              "\n",
              "    .dataframe tbody tr th {\n",
              "        vertical-align: top;\n",
              "    }\n",
              "\n",
              "    .dataframe thead th {\n",
              "        text-align: right;\n",
              "    }\n",
              "</style>\n",
              "<table border=\"1\" class=\"dataframe\">\n",
              "  <thead>\n",
              "    <tr style=\"text-align: right;\">\n",
              "      <th></th>\n",
              "      <th>spotify_id</th>\n",
              "      <th>name</th>\n",
              "      <th>artists</th>\n",
              "      <th>daily_rank</th>\n",
              "      <th>daily_movement</th>\n",
              "      <th>weekly_movement</th>\n",
              "      <th>country</th>\n",
              "      <th>snapshot_date</th>\n",
              "      <th>popularity</th>\n",
              "      <th>is_explicit</th>\n",
              "      <th>...</th>\n",
              "      <th>key</th>\n",
              "      <th>loudness</th>\n",
              "      <th>mode</th>\n",
              "      <th>speechiness</th>\n",
              "      <th>acousticness</th>\n",
              "      <th>instrumentalness</th>\n",
              "      <th>liveness</th>\n",
              "      <th>valence</th>\n",
              "      <th>tempo</th>\n",
              "      <th>time_signature</th>\n",
              "    </tr>\n",
              "  </thead>\n",
              "  <tbody>\n",
              "    <tr>\n",
              "      <th>0</th>\n",
              "      <td>2plbrEY59IikOBgBGLjaoe</td>\n",
              "      <td>Die With A Smile</td>\n",
              "      <td>Lady Gaga, Bruno Mars</td>\n",
              "      <td>1</td>\n",
              "      <td>0</td>\n",
              "      <td>0</td>\n",
              "      <td>NaN</td>\n",
              "      <td>2025-01-04</td>\n",
              "      <td>100</td>\n",
              "      <td>False</td>\n",
              "      <td>...</td>\n",
              "      <td>6</td>\n",
              "      <td>-7.777</td>\n",
              "      <td>0</td>\n",
              "      <td>0.0304</td>\n",
              "      <td>0.30800</td>\n",
              "      <td>0.0000</td>\n",
              "      <td>0.122</td>\n",
              "      <td>0.535</td>\n",
              "      <td>157.969</td>\n",
              "      <td>3</td>\n",
              "    </tr>\n",
              "    <tr>\n",
              "      <th>1</th>\n",
              "      <td>4wJ5Qq0jBN4ajy7ouZIV1c</td>\n",
              "      <td>APT.</td>\n",
              "      <td>ROSÉ, Bruno Mars</td>\n",
              "      <td>2</td>\n",
              "      <td>0</td>\n",
              "      <td>0</td>\n",
              "      <td>NaN</td>\n",
              "      <td>2025-01-04</td>\n",
              "      <td>88</td>\n",
              "      <td>False</td>\n",
              "      <td>...</td>\n",
              "      <td>0</td>\n",
              "      <td>-4.477</td>\n",
              "      <td>0</td>\n",
              "      <td>0.2600</td>\n",
              "      <td>0.02830</td>\n",
              "      <td>0.0000</td>\n",
              "      <td>0.355</td>\n",
              "      <td>0.939</td>\n",
              "      <td>149.027</td>\n",
              "      <td>4</td>\n",
              "    </tr>\n",
              "    <tr>\n",
              "      <th>2</th>\n",
              "      <td>6dOtVTDdiauQNBQEDOtlAB</td>\n",
              "      <td>BIRDS OF A FEATHER</td>\n",
              "      <td>Billie Eilish</td>\n",
              "      <td>3</td>\n",
              "      <td>0</td>\n",
              "      <td>0</td>\n",
              "      <td>NaN</td>\n",
              "      <td>2025-01-04</td>\n",
              "      <td>97</td>\n",
              "      <td>False</td>\n",
              "      <td>...</td>\n",
              "      <td>2</td>\n",
              "      <td>-10.171</td>\n",
              "      <td>1</td>\n",
              "      <td>0.0358</td>\n",
              "      <td>0.20000</td>\n",
              "      <td>0.0608</td>\n",
              "      <td>0.117</td>\n",
              "      <td>0.438</td>\n",
              "      <td>104.978</td>\n",
              "      <td>4</td>\n",
              "    </tr>\n",
              "    <tr>\n",
              "      <th>3</th>\n",
              "      <td>7ne4VBA60CxGM75vw0EYad</td>\n",
              "      <td>That’s So True</td>\n",
              "      <td>Gracie Abrams</td>\n",
              "      <td>4</td>\n",
              "      <td>0</td>\n",
              "      <td>0</td>\n",
              "      <td>NaN</td>\n",
              "      <td>2025-01-04</td>\n",
              "      <td>96</td>\n",
              "      <td>True</td>\n",
              "      <td>...</td>\n",
              "      <td>1</td>\n",
              "      <td>-4.169</td>\n",
              "      <td>1</td>\n",
              "      <td>0.0368</td>\n",
              "      <td>0.21400</td>\n",
              "      <td>0.0000</td>\n",
              "      <td>0.159</td>\n",
              "      <td>0.372</td>\n",
              "      <td>108.548</td>\n",
              "      <td>4</td>\n",
              "    </tr>\n",
              "    <tr>\n",
              "      <th>4</th>\n",
              "      <td>7tI8dRuH2Yc6RuoTjxo4dU</td>\n",
              "      <td>Who</td>\n",
              "      <td>Jimin</td>\n",
              "      <td>5</td>\n",
              "      <td>0</td>\n",
              "      <td>0</td>\n",
              "      <td>NaN</td>\n",
              "      <td>2025-01-04</td>\n",
              "      <td>91</td>\n",
              "      <td>False</td>\n",
              "      <td>...</td>\n",
              "      <td>0</td>\n",
              "      <td>-3.743</td>\n",
              "      <td>0</td>\n",
              "      <td>0.0320</td>\n",
              "      <td>0.00289</td>\n",
              "      <td>0.0000</td>\n",
              "      <td>0.193</td>\n",
              "      <td>0.838</td>\n",
              "      <td>116.034</td>\n",
              "      <td>4</td>\n",
              "    </tr>\n",
              "  </tbody>\n",
              "</table>\n",
              "<p>5 rows × 25 columns</p>\n",
              "</div>"
            ],
            "text/plain": [
              "               spotify_id                name                artists  \\\n",
              "0  2plbrEY59IikOBgBGLjaoe    Die With A Smile  Lady Gaga, Bruno Mars   \n",
              "1  4wJ5Qq0jBN4ajy7ouZIV1c                APT.       ROSÉ, Bruno Mars   \n",
              "2  6dOtVTDdiauQNBQEDOtlAB  BIRDS OF A FEATHER          Billie Eilish   \n",
              "3  7ne4VBA60CxGM75vw0EYad      That’s So True          Gracie Abrams   \n",
              "4  7tI8dRuH2Yc6RuoTjxo4dU                 Who                  Jimin   \n",
              "\n",
              "   daily_rank  daily_movement  weekly_movement country snapshot_date  \\\n",
              "0           1               0                0     NaN    2025-01-04   \n",
              "1           2               0                0     NaN    2025-01-04   \n",
              "2           3               0                0     NaN    2025-01-04   \n",
              "3           4               0                0     NaN    2025-01-04   \n",
              "4           5               0                0     NaN    2025-01-04   \n",
              "\n",
              "   popularity  is_explicit  ...  key loudness mode  speechiness  acousticness  \\\n",
              "0         100        False  ...    6   -7.777    0       0.0304       0.30800   \n",
              "1          88        False  ...    0   -4.477    0       0.2600       0.02830   \n",
              "2          97        False  ...    2  -10.171    1       0.0358       0.20000   \n",
              "3          96         True  ...    1   -4.169    1       0.0368       0.21400   \n",
              "4          91        False  ...    0   -3.743    0       0.0320       0.00289   \n",
              "\n",
              "   instrumentalness  liveness  valence    tempo  time_signature  \n",
              "0            0.0000     0.122    0.535  157.969               3  \n",
              "1            0.0000     0.355    0.939  149.027               4  \n",
              "2            0.0608     0.117    0.438  104.978               4  \n",
              "3            0.0000     0.159    0.372  108.548               4  \n",
              "4            0.0000     0.193    0.838  116.034               4  \n",
              "\n",
              "[5 rows x 25 columns]"
            ]
          },
          "execution_count": 3,
          "metadata": {},
          "output_type": "execute_result"
        }
      ],
      "source": [
        "df = pd.read_csv(path + '/universal_top_spotify_songs.csv')\n",
        "\n",
        "df.head()"
      ]
    },
    {
      "cell_type": "code",
      "execution_count": 4,
      "metadata": {
        "colab": {
          "base_uri": "https://localhost:8080/"
        },
        "id": "ZBGWtYHsmFyD",
        "outputId": "29e0e4c5-0e32-4851-8b9a-4f847eee7982"
      },
      "outputs": [
        {
          "data": {
            "text/plain": [
              "Index(['spotify_id', 'name', 'artists', 'daily_rank', 'daily_movement',\n",
              "       'weekly_movement', 'country', 'snapshot_date', 'popularity',\n",
              "       'is_explicit', 'duration_ms', 'album_name', 'album_release_date',\n",
              "       'danceability', 'energy', 'key', 'loudness', 'mode', 'speechiness',\n",
              "       'acousticness', 'instrumentalness', 'liveness', 'valence', 'tempo',\n",
              "       'time_signature'],\n",
              "      dtype='object')"
            ]
          },
          "execution_count": 4,
          "metadata": {},
          "output_type": "execute_result"
        }
      ],
      "source": [
        "df.columns"
      ]
    },
    {
      "cell_type": "code",
      "execution_count": 5,
      "metadata": {
        "colab": {
          "base_uri": "https://localhost:8080/"
        },
        "id": "j0Tk194tLsC3",
        "outputId": "52b6d535-9e4d-4f41-f222-069c663e0283"
      },
      "outputs": [
        {
          "data": {
            "text/plain": [
              "array([nan, 'ZA', 'VN', 'VE', 'UY', 'US', 'UA', 'TW', 'TR', 'TH', 'SV',\n",
              "       'SK', 'SG', 'SE', 'SA', 'RO', 'PY', 'PT', 'PL', 'PK', 'PH', 'PE',\n",
              "       'PA', 'NZ', 'NO', 'NL', 'NI', 'NG', 'MY', 'MX', 'MA', 'LV', 'LU',\n",
              "       'LT', 'KZ', 'KR', 'JP', 'IT', 'IS', 'IN', 'IL', 'IE', 'ID', 'HU',\n",
              "       'HN', 'HK', 'GT', 'GR', 'FR', 'FI', 'ES', 'EG', 'EE', 'EC', 'DO',\n",
              "       'DK', 'DE', 'CZ', 'CR', 'CO', 'CL', 'CH', 'CA', 'BY', 'BR', 'BO',\n",
              "       'BG', 'BE', 'AU', 'AT', 'AR', 'AE', 'GB'], dtype=object)"
            ]
          },
          "execution_count": 5,
          "metadata": {},
          "output_type": "execute_result"
        }
      ],
      "source": [
        "df['country'].unique()"
      ]
    },
    {
      "cell_type": "code",
      "execution_count": 6,
      "metadata": {
        "colab": {
          "base_uri": "https://localhost:8080/",
          "height": 481
        },
        "id": "q6n3fgLzy2U0",
        "outputId": "35cbfc17-6598-450f-c6d0-f00ba17c3dc1"
      },
      "outputs": [
        {
          "data": {
            "text/html": [
              "<div>\n",
              "<style scoped>\n",
              "    .dataframe tbody tr th:only-of-type {\n",
              "        vertical-align: middle;\n",
              "    }\n",
              "\n",
              "    .dataframe tbody tr th {\n",
              "        vertical-align: top;\n",
              "    }\n",
              "\n",
              "    .dataframe thead th {\n",
              "        text-align: right;\n",
              "    }\n",
              "</style>\n",
              "<table border=\"1\" class=\"dataframe\">\n",
              "  <thead>\n",
              "    <tr style=\"text-align: right;\">\n",
              "      <th></th>\n",
              "      <th>spotify_id</th>\n",
              "      <th>name</th>\n",
              "      <th>artists</th>\n",
              "      <th>daily_rank</th>\n",
              "      <th>daily_movement</th>\n",
              "      <th>weekly_movement</th>\n",
              "      <th>snapshot_date</th>\n",
              "      <th>popularity</th>\n",
              "      <th>is_explicit</th>\n",
              "      <th>duration_ms</th>\n",
              "      <th>...</th>\n",
              "      <th>key</th>\n",
              "      <th>loudness</th>\n",
              "      <th>mode</th>\n",
              "      <th>speechiness</th>\n",
              "      <th>acousticness</th>\n",
              "      <th>instrumentalness</th>\n",
              "      <th>liveness</th>\n",
              "      <th>valence</th>\n",
              "      <th>tempo</th>\n",
              "      <th>time_signature</th>\n",
              "    </tr>\n",
              "  </thead>\n",
              "  <tbody>\n",
              "    <tr>\n",
              "      <th>0</th>\n",
              "      <td>2plbrEY59IikOBgBGLjaoe</td>\n",
              "      <td>Die With A Smile</td>\n",
              "      <td>Lady Gaga, Bruno Mars</td>\n",
              "      <td>1</td>\n",
              "      <td>0</td>\n",
              "      <td>0</td>\n",
              "      <td>2025-01-04</td>\n",
              "      <td>100</td>\n",
              "      <td>False</td>\n",
              "      <td>251667</td>\n",
              "      <td>...</td>\n",
              "      <td>6</td>\n",
              "      <td>-7.777</td>\n",
              "      <td>0</td>\n",
              "      <td>0.0304</td>\n",
              "      <td>0.30800</td>\n",
              "      <td>0.0000</td>\n",
              "      <td>0.122</td>\n",
              "      <td>0.535</td>\n",
              "      <td>157.969</td>\n",
              "      <td>3</td>\n",
              "    </tr>\n",
              "    <tr>\n",
              "      <th>1</th>\n",
              "      <td>4wJ5Qq0jBN4ajy7ouZIV1c</td>\n",
              "      <td>APT.</td>\n",
              "      <td>ROSÉ, Bruno Mars</td>\n",
              "      <td>2</td>\n",
              "      <td>0</td>\n",
              "      <td>0</td>\n",
              "      <td>2025-01-04</td>\n",
              "      <td>88</td>\n",
              "      <td>False</td>\n",
              "      <td>169917</td>\n",
              "      <td>...</td>\n",
              "      <td>0</td>\n",
              "      <td>-4.477</td>\n",
              "      <td>0</td>\n",
              "      <td>0.2600</td>\n",
              "      <td>0.02830</td>\n",
              "      <td>0.0000</td>\n",
              "      <td>0.355</td>\n",
              "      <td>0.939</td>\n",
              "      <td>149.027</td>\n",
              "      <td>4</td>\n",
              "    </tr>\n",
              "    <tr>\n",
              "      <th>2</th>\n",
              "      <td>6dOtVTDdiauQNBQEDOtlAB</td>\n",
              "      <td>BIRDS OF A FEATHER</td>\n",
              "      <td>Billie Eilish</td>\n",
              "      <td>3</td>\n",
              "      <td>0</td>\n",
              "      <td>0</td>\n",
              "      <td>2025-01-04</td>\n",
              "      <td>97</td>\n",
              "      <td>False</td>\n",
              "      <td>210373</td>\n",
              "      <td>...</td>\n",
              "      <td>2</td>\n",
              "      <td>-10.171</td>\n",
              "      <td>1</td>\n",
              "      <td>0.0358</td>\n",
              "      <td>0.20000</td>\n",
              "      <td>0.0608</td>\n",
              "      <td>0.117</td>\n",
              "      <td>0.438</td>\n",
              "      <td>104.978</td>\n",
              "      <td>4</td>\n",
              "    </tr>\n",
              "    <tr>\n",
              "      <th>3</th>\n",
              "      <td>7ne4VBA60CxGM75vw0EYad</td>\n",
              "      <td>That’s So True</td>\n",
              "      <td>Gracie Abrams</td>\n",
              "      <td>4</td>\n",
              "      <td>0</td>\n",
              "      <td>0</td>\n",
              "      <td>2025-01-04</td>\n",
              "      <td>96</td>\n",
              "      <td>True</td>\n",
              "      <td>166300</td>\n",
              "      <td>...</td>\n",
              "      <td>1</td>\n",
              "      <td>-4.169</td>\n",
              "      <td>1</td>\n",
              "      <td>0.0368</td>\n",
              "      <td>0.21400</td>\n",
              "      <td>0.0000</td>\n",
              "      <td>0.159</td>\n",
              "      <td>0.372</td>\n",
              "      <td>108.548</td>\n",
              "      <td>4</td>\n",
              "    </tr>\n",
              "    <tr>\n",
              "      <th>4</th>\n",
              "      <td>7tI8dRuH2Yc6RuoTjxo4dU</td>\n",
              "      <td>Who</td>\n",
              "      <td>Jimin</td>\n",
              "      <td>5</td>\n",
              "      <td>0</td>\n",
              "      <td>0</td>\n",
              "      <td>2025-01-04</td>\n",
              "      <td>91</td>\n",
              "      <td>False</td>\n",
              "      <td>170887</td>\n",
              "      <td>...</td>\n",
              "      <td>0</td>\n",
              "      <td>-3.743</td>\n",
              "      <td>0</td>\n",
              "      <td>0.0320</td>\n",
              "      <td>0.00289</td>\n",
              "      <td>0.0000</td>\n",
              "      <td>0.193</td>\n",
              "      <td>0.838</td>\n",
              "      <td>116.034</td>\n",
              "      <td>4</td>\n",
              "    </tr>\n",
              "  </tbody>\n",
              "</table>\n",
              "<p>5 rows × 24 columns</p>\n",
              "</div>"
            ],
            "text/plain": [
              "               spotify_id                name                artists  \\\n",
              "0  2plbrEY59IikOBgBGLjaoe    Die With A Smile  Lady Gaga, Bruno Mars   \n",
              "1  4wJ5Qq0jBN4ajy7ouZIV1c                APT.       ROSÉ, Bruno Mars   \n",
              "2  6dOtVTDdiauQNBQEDOtlAB  BIRDS OF A FEATHER          Billie Eilish   \n",
              "3  7ne4VBA60CxGM75vw0EYad      That’s So True          Gracie Abrams   \n",
              "4  7tI8dRuH2Yc6RuoTjxo4dU                 Who                  Jimin   \n",
              "\n",
              "   daily_rank  daily_movement  weekly_movement snapshot_date  popularity  \\\n",
              "0           1               0                0    2025-01-04         100   \n",
              "1           2               0                0    2025-01-04          88   \n",
              "2           3               0                0    2025-01-04          97   \n",
              "3           4               0                0    2025-01-04          96   \n",
              "4           5               0                0    2025-01-04          91   \n",
              "\n",
              "   is_explicit  duration_ms  ... key loudness  mode  speechiness  \\\n",
              "0        False       251667  ...   6   -7.777     0       0.0304   \n",
              "1        False       169917  ...   0   -4.477     0       0.2600   \n",
              "2        False       210373  ...   2  -10.171     1       0.0358   \n",
              "3         True       166300  ...   1   -4.169     1       0.0368   \n",
              "4        False       170887  ...   0   -3.743     0       0.0320   \n",
              "\n",
              "   acousticness  instrumentalness  liveness  valence    tempo  time_signature  \n",
              "0       0.30800            0.0000     0.122    0.535  157.969               3  \n",
              "1       0.02830            0.0000     0.355    0.939  149.027               4  \n",
              "2       0.20000            0.0608     0.117    0.438  104.978               4  \n",
              "3       0.21400            0.0000     0.159    0.372  108.548               4  \n",
              "4       0.00289            0.0000     0.193    0.838  116.034               4  \n",
              "\n",
              "[5 rows x 24 columns]"
            ]
          },
          "execution_count": 6,
          "metadata": {},
          "output_type": "execute_result"
        }
      ],
      "source": [
        "df = df[(df['country'] == \"ID\") | (df['country'] == \"US\") | (df['country'].isna())]\n",
        "df.drop(['country'], axis=1, inplace=True)\n",
        "\n",
        "df.head()"
      ]
    },
    {
      "cell_type": "code",
      "execution_count": 7,
      "metadata": {
        "colab": {
          "base_uri": "https://localhost:8080/"
        },
        "id": "XxKmsHgqzLwT",
        "outputId": "31c3bae0-f44b-4d57-bab8-a435d3f0852c"
      },
      "outputs": [
        {
          "name": "stdout",
          "output_type": "stream",
          "text": [
            "spotify_id             0\n",
            "name                   0\n",
            "artists                0\n",
            "daily_rank             0\n",
            "daily_movement         0\n",
            "weekly_movement        0\n",
            "snapshot_date          0\n",
            "popularity             0\n",
            "is_explicit            0\n",
            "duration_ms            0\n",
            "album_name            67\n",
            "album_release_date    67\n",
            "danceability           0\n",
            "energy                 0\n",
            "key                    0\n",
            "loudness               0\n",
            "mode                   0\n",
            "speechiness            0\n",
            "acousticness           0\n",
            "instrumentalness       0\n",
            "liveness               0\n",
            "valence                0\n",
            "tempo                  0\n",
            "time_signature         0\n",
            "dtype: int64\n"
          ]
        }
      ],
      "source": [
        "print(df.isna().sum())\n",
        "\n",
        "df.dropna(axis=0, inplace=True)"
      ]
    },
    {
      "cell_type": "code",
      "execution_count": 8,
      "metadata": {
        "id": "B-7cm-MKFKqj"
      },
      "outputs": [],
      "source": [
        "df = df.drop_duplicates(subset=['spotify_id'])"
      ]
    },
    {
      "cell_type": "code",
      "execution_count": 9,
      "metadata": {
        "id": "aynZzFQnz0j3"
      },
      "outputs": [],
      "source": [
        "df = df.drop_duplicates(subset=['name', 'artists'], keep='first')\n",
        "\n",
        "df = df.reset_index(drop=True)"
      ]
    },
    {
      "cell_type": "code",
      "execution_count": 10,
      "metadata": {
        "id": "SU3gU9MD6Mje"
      },
      "outputs": [],
      "source": [
        "num_features = [\n",
        "    \"danceability\",\n",
        "    \"energy\",\n",
        "    'key',\n",
        "    \"loudness\",\n",
        "    \"speechiness\",\n",
        "    \"acousticness\",\n",
        "    \"instrumentalness\",\n",
        "    \"liveness\",\n",
        "    \"valence\",\n",
        "    \"tempo\",\n",
        "]"
      ]
    },
    {
      "cell_type": "code",
      "execution_count": 11,
      "metadata": {
        "id": "QD4zPBJOmFyE"
      },
      "outputs": [],
      "source": [
        "scaler = StandardScaler()\n",
        "\n",
        "df[num_features] = scaler.fit_transform(df[num_features])"
      ]
    },
    {
      "cell_type": "code",
      "execution_count": 12,
      "metadata": {
        "id": "bOqXgIKOmFyE"
      },
      "outputs": [],
      "source": [
        "features = [\n",
        "    'name',\n",
        "    'artists',\n",
        "    'popularity',\n",
        "    'danceability',\n",
        "    'energy',\n",
        "    'loudness',\n",
        "    'duration_ms',\n",
        "    'speechiness',\n",
        "    'acousticness',\n",
        "    'instrumentalness',\n",
        "    'liveness',\n",
        "    'valence',\n",
        "    'tempo',\n",
        "    'album_release_date'\n",
        "]\n",
        "\n",
        "df['combined_features'] = df[features].apply(lambda x: ' '.join(x.astype(str)), axis=1)"
      ]
    },
    {
      "cell_type": "code",
      "execution_count": 13,
      "metadata": {
        "id": "ZDHKYg-97grY"
      },
      "outputs": [],
      "source": [
        "tfidf = TfidfVectorizer(stop_words='english')\n",
        "\n",
        "tfidf_matrix = tfidf.fit_transform(df['combined_features'])"
      ]
    },
    {
      "cell_type": "code",
      "execution_count": 14,
      "metadata": {
        "id": "SMmXfgVSBAum"
      },
      "outputs": [],
      "source": [
        "similarity = cosine_similarity(tfidf_matrix)"
      ]
    },
    {
      "cell_type": "code",
      "execution_count": 15,
      "metadata": {
        "id": "B6cfG8K8CJDy"
      },
      "outputs": [],
      "source": [
        "def recommend(song_id, similarity, df, top_n=10):\n",
        "    song_idx = df.index[df['spotify_id'] == song_id][0]\n",
        "    similar_indices = similarity[song_idx].argsort()[::-1][1:top_n+1]\n",
        "    recommendations = df.iloc[similar_indices]\n",
        "    return recommendations[['spotify_id', 'name', 'artists']]"
      ]
    },
    {
      "cell_type": "code",
      "execution_count": 16,
      "metadata": {
        "colab": {
          "base_uri": "https://localhost:8080/"
        },
        "id": "OWv_oWr7CJjk",
        "outputId": "de134fe7-5ade-4379-8d15-667b692e219d"
      },
      "outputs": [
        {
          "name": "stdout",
          "output_type": "stream",
          "text": [
            "                 spotify_id                  name  \\\n",
            "287  19KlZwqlT3fguP2BeHF1Q1               Disease   \n",
            "909  7mXuWTczZNxG5EDcjFEuJR             LADY GAGA   \n",
            "310  11BKm0j4eYoCPPpCONAVwA           Bloody Mary   \n",
            "1    4wJ5Qq0jBN4ajy7ouZIV1c                  APT.   \n",
            "44   0KKkJNfGyhkQ5aFogxQAPU    That's What I Like   \n",
            "367  161DnLWsx1i3u1JT05lzqU   Talking to the Moon   \n",
            "317  4rMNgxEwGWoPHIUcvB5BrB          It Will Rain   \n",
            "365  0B7wvvmu9EISAwZnOpjhNI   When I Was Your Man   \n",
            "28   3w3y8KPTfNeOKPiqUTakBh  Locked out of Heaven   \n",
            "41   2osJCvi2zzebMQTc7vvcAm  Just the Way You Are   \n",
            "398  09LrGvT9KsACH66RHYMDyR           Don’t Smile   \n",
            "599  5og4Qzt92jJzVDkOtSEilb  But Daddy I Love Him   \n",
            "577  6IwmDRpswDujeciIBTiEOL            love hotel   \n",
            "455  7Lfwb4IjZiNYGuqtP65kIc                 FRIED   \n",
            "985  7tuwsUy09EoabNtrXrLnX1            Surat Hati   \n",
            "821  0FlwhvrncUKrEAhzunmCKm               Forever   \n",
            "592  7DpUoxGSdlDHfqCYj0otzU           BITTERSUITE   \n",
            "37   3MJ6lFNV12FSHAOzTzkwxz                 Smile   \n",
            "867  2LBqCSwhJGcFQeTHMVGwy3           Die For You   \n",
            "638  18WFFUIsewmA8g31KAeo3e          The Prophecy   \n",
            "\n",
            "                                      artists  \n",
            "287                                 Lady Gaga  \n",
            "909  Peso Pluma, Gabito Ballesteros, Junior H  \n",
            "310                                 Lady Gaga  \n",
            "1                            ROSÉ, Bruno Mars  \n",
            "44                                 Bruno Mars  \n",
            "367                                Bruno Mars  \n",
            "317                                Bruno Mars  \n",
            "365                                Bruno Mars  \n",
            "28                                 Bruno Mars  \n",
            "41                                 Bruno Mars  \n",
            "398                         Sabrina Carpenter  \n",
            "599                              Taylor Swift  \n",
            "577                               leftovermax  \n",
            "455             ¥$, Kanye West, Ty Dolla $ign  \n",
            "985                                    Devano  \n",
            "821                                Noah Kahan  \n",
            "592                             Billie Eilish  \n",
            "37                              Morgan Wallen  \n",
            "867                                The Weeknd  \n",
            "638                              Taylor Swift  \n"
          ]
        }
      ],
      "source": [
        "recommendations = recommend('2plbrEY59IikOBgBGLjaoe', similarity, df, 20)\n",
        "\n",
        "print(recommendations)"
      ]
    },
    {
      "cell_type": "code",
      "execution_count": 73,
      "metadata": {
        "id": "3srwalvmItDC"
      },
      "outputs": [],
      "source": [
        "X = df[num_features].values\n",
        "y = df['album_release_date'].values"
      ]
    },
    {
      "cell_type": "code",
      "execution_count": 74,
      "metadata": {
        "id": "DSfuEv02mFyE"
      },
      "outputs": [],
      "source": [
        "def triplet_loss(margin=.5):\n",
        "    def loss(y_true, y_pred):\n",
        "        anchor, positive, negative = tf.split(y_pred, num_or_size_splits=3, axis=1)\n",
        "\n",
        "        positive_distance = tf.reduce_sum(tf.square(anchor - positive), axis=1)\n",
        "        negative_distance = tf.reduce_sum(tf.square(anchor - negative), axis=1)\n",
        "\n",
        "        basic_loss = positive_distance - negative_distance + margin\n",
        "        loss = tf.reduce_mean(tf.maximum(basic_loss, 0.0))\n",
        "\n",
        "        return loss\n",
        "\n",
        "    return loss"
      ]
    },
    {
      "cell_type": "code",
      "execution_count": 75,
      "metadata": {
        "id": "EMP4CG2DmFyE"
      },
      "outputs": [],
      "source": [
        "def create_triplet(data, labels):\n",
        "    triplets = []\n",
        "    unique_labels = np.unique(labels)\n",
        "\n",
        "    for label in unique_labels:\n",
        "        positive = np.where(labels == label)[0]\n",
        "        negative = np.where(labels != label)[0]\n",
        "\n",
        "        for anchor in positive:\n",
        "            positive_idx = np.random.choice(positive)\n",
        "            negative_idx = np.random.choice(negative)\n",
        "            triplets.append((data[anchor], data[positive_idx], data[negative_idx]))\n",
        "\n",
        "    return np.array(triplets)"
      ]
    },
    {
      "cell_type": "code",
      "execution_count": 76,
      "metadata": {
        "id": "A6jZpGTwmFyE"
      },
      "outputs": [],
      "source": [
        "triplets = create_triplet(X, y)\n",
        "anchor, positive, negative = zip(*triplets)\n",
        "\n",
        "anchor = np.array(anchor)\n",
        "positive = np.array(positive)\n",
        "negative = np.array(negative)"
      ]
    },
    {
      "cell_type": "code",
      "execution_count": 77,
      "metadata": {
        "id": "9ha88jtL08t0"
      },
      "outputs": [],
      "source": [
        "def build_encoder():\n",
        "    model = tf.keras.models.Sequential([\n",
        "        tf.keras.layers.Input(shape=(X.shape[1],)),\n",
        "        tf.keras.layers.Dense(64, activation='relu'),\n",
        "        tf.keras.layers.Dense(32, activation='relu'),\n",
        "        tf.keras.layers.Dense(X.shape[1], activation='linear'),\n",
        "        tf.keras.layers.Lambda(lambda x: tf.nn.l2_normalize(x, axis=1))\n",
        "    ])\n",
        "\n",
        "    return model\n",
        "\n",
        "encoder = build_encoder()"
      ]
    },
    {
      "cell_type": "code",
      "execution_count": 78,
      "metadata": {
        "colab": {
          "base_uri": "https://localhost:8080/"
        },
        "id": "ExB66TWg0_XS",
        "outputId": "da38dcd5-80cc-441b-e2ea-ff37f3eb82ad"
      },
      "outputs": [
        {
          "data": {
            "text/html": [
              "<pre style=\"white-space:pre;overflow-x:auto;line-height:normal;font-family:Menlo,'DejaVu Sans Mono',consolas,'Courier New',monospace\"><span style=\"font-weight: bold\">Model: \"functional_8\"</span>\n",
              "</pre>\n"
            ],
            "text/plain": [
              "\u001b[1mModel: \"functional_8\"\u001b[0m\n"
            ]
          },
          "metadata": {},
          "output_type": "display_data"
        },
        {
          "data": {
            "text/html": [
              "<pre style=\"white-space:pre;overflow-x:auto;line-height:normal;font-family:Menlo,'DejaVu Sans Mono',consolas,'Courier New',monospace\">┏━━━━━━━━━━━━━━━━━━━━━┳━━━━━━━━━━━━━━━━━━━┳━━━━━━━━━━━━┳━━━━━━━━━━━━━━━━━━━┓\n",
              "┃<span style=\"font-weight: bold\"> Layer (type)        </span>┃<span style=\"font-weight: bold\"> Output Shape      </span>┃<span style=\"font-weight: bold\">    Param # </span>┃<span style=\"font-weight: bold\"> Connected to      </span>┃\n",
              "┡━━━━━━━━━━━━━━━━━━━━━╇━━━━━━━━━━━━━━━━━━━╇━━━━━━━━━━━━╇━━━━━━━━━━━━━━━━━━━┩\n",
              "│ input_layer_17      │ (<span style=\"color: #00d7ff; text-decoration-color: #00d7ff\">None</span>, <span style=\"color: #00af00; text-decoration-color: #00af00\">10</span>)        │          <span style=\"color: #00af00; text-decoration-color: #00af00\">0</span> │ -                 │\n",
              "│ (<span style=\"color: #0087ff; text-decoration-color: #0087ff\">InputLayer</span>)        │                   │            │                   │\n",
              "├─────────────────────┼───────────────────┼────────────┼───────────────────┤\n",
              "│ input_layer_18      │ (<span style=\"color: #00d7ff; text-decoration-color: #00d7ff\">None</span>, <span style=\"color: #00af00; text-decoration-color: #00af00\">10</span>)        │          <span style=\"color: #00af00; text-decoration-color: #00af00\">0</span> │ -                 │\n",
              "│ (<span style=\"color: #0087ff; text-decoration-color: #0087ff\">InputLayer</span>)        │                   │            │                   │\n",
              "├─────────────────────┼───────────────────┼────────────┼───────────────────┤\n",
              "│ input_layer_19      │ (<span style=\"color: #00d7ff; text-decoration-color: #00d7ff\">None</span>, <span style=\"color: #00af00; text-decoration-color: #00af00\">10</span>)        │          <span style=\"color: #00af00; text-decoration-color: #00af00\">0</span> │ -                 │\n",
              "│ (<span style=\"color: #0087ff; text-decoration-color: #0087ff\">InputLayer</span>)        │                   │            │                   │\n",
              "├─────────────────────┼───────────────────┼────────────┼───────────────────┤\n",
              "│ sequential_3        │ (<span style=\"color: #00d7ff; text-decoration-color: #00d7ff\">None</span>, <span style=\"color: #00af00; text-decoration-color: #00af00\">10</span>)        │      <span style=\"color: #00af00; text-decoration-color: #00af00\">3,114</span> │ input_layer_17[<span style=\"color: #00af00; text-decoration-color: #00af00\">0</span>… │\n",
              "│ (<span style=\"color: #0087ff; text-decoration-color: #0087ff\">Sequential</span>)        │                   │            │ input_layer_18[<span style=\"color: #00af00; text-decoration-color: #00af00\">0</span>… │\n",
              "│                     │                   │            │ input_layer_19[<span style=\"color: #00af00; text-decoration-color: #00af00\">0</span>… │\n",
              "├─────────────────────┼───────────────────┼────────────┼───────────────────┤\n",
              "│ concatenate_4       │ (<span style=\"color: #00d7ff; text-decoration-color: #00d7ff\">None</span>, <span style=\"color: #00af00; text-decoration-color: #00af00\">30</span>)        │          <span style=\"color: #00af00; text-decoration-color: #00af00\">0</span> │ sequential_3[<span style=\"color: #00af00; text-decoration-color: #00af00\">0</span>][<span style=\"color: #00af00; text-decoration-color: #00af00\">…</span> │\n",
              "│ (<span style=\"color: #0087ff; text-decoration-color: #0087ff\">Concatenate</span>)       │                   │            │ sequential_3[<span style=\"color: #00af00; text-decoration-color: #00af00\">1</span>][<span style=\"color: #00af00; text-decoration-color: #00af00\">…</span> │\n",
              "│                     │                   │            │ sequential_3[<span style=\"color: #00af00; text-decoration-color: #00af00\">2</span>][<span style=\"color: #00af00; text-decoration-color: #00af00\">…</span> │\n",
              "└─────────────────────┴───────────────────┴────────────┴───────────────────┘\n",
              "</pre>\n"
            ],
            "text/plain": [
              "┏━━━━━━━━━━━━━━━━━━━━━┳━━━━━━━━━━━━━━━━━━━┳━━━━━━━━━━━━┳━━━━━━━━━━━━━━━━━━━┓\n",
              "┃\u001b[1m \u001b[0m\u001b[1mLayer (type)       \u001b[0m\u001b[1m \u001b[0m┃\u001b[1m \u001b[0m\u001b[1mOutput Shape     \u001b[0m\u001b[1m \u001b[0m┃\u001b[1m \u001b[0m\u001b[1m   Param #\u001b[0m\u001b[1m \u001b[0m┃\u001b[1m \u001b[0m\u001b[1mConnected to     \u001b[0m\u001b[1m \u001b[0m┃\n",
              "┡━━━━━━━━━━━━━━━━━━━━━╇━━━━━━━━━━━━━━━━━━━╇━━━━━━━━━━━━╇━━━━━━━━━━━━━━━━━━━┩\n",
              "│ input_layer_17      │ (\u001b[38;5;45mNone\u001b[0m, \u001b[38;5;34m10\u001b[0m)        │          \u001b[38;5;34m0\u001b[0m │ -                 │\n",
              "│ (\u001b[38;5;33mInputLayer\u001b[0m)        │                   │            │                   │\n",
              "├─────────────────────┼───────────────────┼────────────┼───────────────────┤\n",
              "│ input_layer_18      │ (\u001b[38;5;45mNone\u001b[0m, \u001b[38;5;34m10\u001b[0m)        │          \u001b[38;5;34m0\u001b[0m │ -                 │\n",
              "│ (\u001b[38;5;33mInputLayer\u001b[0m)        │                   │            │                   │\n",
              "├─────────────────────┼───────────────────┼────────────┼───────────────────┤\n",
              "│ input_layer_19      │ (\u001b[38;5;45mNone\u001b[0m, \u001b[38;5;34m10\u001b[0m)        │          \u001b[38;5;34m0\u001b[0m │ -                 │\n",
              "│ (\u001b[38;5;33mInputLayer\u001b[0m)        │                   │            │                   │\n",
              "├─────────────────────┼───────────────────┼────────────┼───────────────────┤\n",
              "│ sequential_3        │ (\u001b[38;5;45mNone\u001b[0m, \u001b[38;5;34m10\u001b[0m)        │      \u001b[38;5;34m3,114\u001b[0m │ input_layer_17[\u001b[38;5;34m0\u001b[0m… │\n",
              "│ (\u001b[38;5;33mSequential\u001b[0m)        │                   │            │ input_layer_18[\u001b[38;5;34m0\u001b[0m… │\n",
              "│                     │                   │            │ input_layer_19[\u001b[38;5;34m0\u001b[0m… │\n",
              "├─────────────────────┼───────────────────┼────────────┼───────────────────┤\n",
              "│ concatenate_4       │ (\u001b[38;5;45mNone\u001b[0m, \u001b[38;5;34m30\u001b[0m)        │          \u001b[38;5;34m0\u001b[0m │ sequential_3[\u001b[38;5;34m0\u001b[0m][\u001b[38;5;34m…\u001b[0m │\n",
              "│ (\u001b[38;5;33mConcatenate\u001b[0m)       │                   │            │ sequential_3[\u001b[38;5;34m1\u001b[0m][\u001b[38;5;34m…\u001b[0m │\n",
              "│                     │                   │            │ sequential_3[\u001b[38;5;34m2\u001b[0m][\u001b[38;5;34m…\u001b[0m │\n",
              "└─────────────────────┴───────────────────┴────────────┴───────────────────┘\n"
            ]
          },
          "metadata": {},
          "output_type": "display_data"
        },
        {
          "data": {
            "text/html": [
              "<pre style=\"white-space:pre;overflow-x:auto;line-height:normal;font-family:Menlo,'DejaVu Sans Mono',consolas,'Courier New',monospace\"><span style=\"font-weight: bold\"> Total params: </span><span style=\"color: #00af00; text-decoration-color: #00af00\">3,114</span> (12.16 KB)\n",
              "</pre>\n"
            ],
            "text/plain": [
              "\u001b[1m Total params: \u001b[0m\u001b[38;5;34m3,114\u001b[0m (12.16 KB)\n"
            ]
          },
          "metadata": {},
          "output_type": "display_data"
        },
        {
          "data": {
            "text/html": [
              "<pre style=\"white-space:pre;overflow-x:auto;line-height:normal;font-family:Menlo,'DejaVu Sans Mono',consolas,'Courier New',monospace\"><span style=\"font-weight: bold\"> Trainable params: </span><span style=\"color: #00af00; text-decoration-color: #00af00\">3,114</span> (12.16 KB)\n",
              "</pre>\n"
            ],
            "text/plain": [
              "\u001b[1m Trainable params: \u001b[0m\u001b[38;5;34m3,114\u001b[0m (12.16 KB)\n"
            ]
          },
          "metadata": {},
          "output_type": "display_data"
        },
        {
          "data": {
            "text/html": [
              "<pre style=\"white-space:pre;overflow-x:auto;line-height:normal;font-family:Menlo,'DejaVu Sans Mono',consolas,'Courier New',monospace\"><span style=\"font-weight: bold\"> Non-trainable params: </span><span style=\"color: #00af00; text-decoration-color: #00af00\">0</span> (0.00 B)\n",
              "</pre>\n"
            ],
            "text/plain": [
              "\u001b[1m Non-trainable params: \u001b[0m\u001b[38;5;34m0\u001b[0m (0.00 B)\n"
            ]
          },
          "metadata": {},
          "output_type": "display_data"
        }
      ],
      "source": [
        "anchor_input = tf.keras.layers.Input(shape=(X.shape[1],))\n",
        "positive_input = tf.keras.layers.Input(shape=(X.shape[1],))\n",
        "negative_input = tf.keras.layers.Input(shape=(X.shape[1],))\n",
        "\n",
        "anchor_embedding = encoder(anchor_input)\n",
        "positive_embedding = encoder(positive_input)\n",
        "negative_embedding = encoder(negative_input)\n",
        "\n",
        "output = tf.keras.layers.Concatenate()([anchor_embedding, positive_embedding, negative_embedding])\n",
        "\n",
        "model = tf.keras.Model(inputs=[anchor_input, positive_input, negative_input], outputs=output)\n",
        "\n",
        "model.compile(optimizer=tf.keras.optimizers.Adam(learning_rate=5e-3), loss=triplet_loss(margin=1e-3))\n",
        "model.summary()"
      ]
    },
    {
      "cell_type": "code",
      "execution_count": 79,
      "metadata": {
        "colab": {
          "base_uri": "https://localhost:8080/"
        },
        "id": "ZkZbc66ImFyF",
        "outputId": "31771273-1a97-44fa-8808-0d41536cd84e"
      },
      "outputs": [
        {
          "name": "stdout",
          "output_type": "stream",
          "text": [
            "Epoch 1/10\n"
          ]
        },
        {
          "name": "stderr",
          "output_type": "stream",
          "text": [
            "C:\\Users\\nurka\\AppData\\Roaming\\Python\\Python312\\site-packages\\keras\\src\\models\\functional.py:225: UserWarning: The structure of `inputs` doesn't match the expected structure: ['keras_tensor_57', 'keras_tensor_58', 'keras_tensor_59']. Received: the structure of inputs=('*', '*', '*')\n",
            "  warnings.warn(\n"
          ]
        },
        {
          "name": "stdout",
          "output_type": "stream",
          "text": [
            "\u001b[1m5/5\u001b[0m \u001b[32m━━━━━━━━━━━━━━━━━━━━\u001b[0m\u001b[37m\u001b[0m \u001b[1m2s\u001b[0m 3ms/step - loss: 0.0668\n",
            "Epoch 2/10\n",
            "\u001b[1m5/5\u001b[0m \u001b[32m━━━━━━━━━━━━━━━━━━━━\u001b[0m\u001b[37m\u001b[0m \u001b[1m0s\u001b[0m 2ms/step - loss: 0.0100  \n",
            "Epoch 3/10\n",
            "\u001b[1m5/5\u001b[0m \u001b[32m━━━━━━━━━━━━━━━━━━━━\u001b[0m\u001b[37m\u001b[0m \u001b[1m0s\u001b[0m 3ms/step - loss: 0.0046\n",
            "Epoch 4/10\n",
            "\u001b[1m5/5\u001b[0m \u001b[32m━━━━━━━━━━━━━━━━━━━━\u001b[0m\u001b[37m\u001b[0m \u001b[1m0s\u001b[0m 2ms/step - loss: 0.0025  \n",
            "Epoch 5/10\n",
            "\u001b[1m5/5\u001b[0m \u001b[32m━━━━━━━━━━━━━━━━━━━━\u001b[0m\u001b[37m\u001b[0m \u001b[1m0s\u001b[0m 2ms/step - loss: 0.0016  \n",
            "Epoch 6/10\n",
            "\u001b[1m5/5\u001b[0m \u001b[32m━━━━━━━━━━━━━━━━━━━━\u001b[0m\u001b[37m\u001b[0m \u001b[1m0s\u001b[0m 2ms/step - loss: 0.0013  \n",
            "Epoch 7/10\n",
            "\u001b[1m5/5\u001b[0m \u001b[32m━━━━━━━━━━━━━━━━━━━━\u001b[0m\u001b[37m\u001b[0m \u001b[1m0s\u001b[0m 2ms/step - loss: 9.7676e-04  \n",
            "Epoch 8/10\n",
            "\u001b[1m5/5\u001b[0m \u001b[32m━━━━━━━━━━━━━━━━━━━━\u001b[0m\u001b[37m\u001b[0m \u001b[1m0s\u001b[0m 3ms/step - loss: 8.4913e-04\n",
            "Epoch 9/10\n",
            "\u001b[1m5/5\u001b[0m \u001b[32m━━━━━━━━━━━━━━━━━━━━\u001b[0m\u001b[37m\u001b[0m \u001b[1m0s\u001b[0m 2ms/step - loss: 7.0337e-04\n",
            "Epoch 10/10\n",
            "\u001b[1m5/5\u001b[0m \u001b[32m━━━━━━━━━━━━━━━━━━━━\u001b[0m\u001b[37m\u001b[0m \u001b[1m0s\u001b[0m 2ms/step - loss: 6.8119e-04\n"
          ]
        },
        {
          "data": {
            "text/plain": [
              "<keras.src.callbacks.history.History at 0x21a176e2570>"
            ]
          },
          "execution_count": 79,
          "metadata": {},
          "output_type": "execute_result"
        }
      ],
      "source": [
        "model.fit([anchor, positive, negative], np.zeros((anchor.shape[0], 1)), epochs=10, batch_size=256)"
      ]
    },
    {
      "cell_type": "code",
      "execution_count": 80,
      "metadata": {
        "colab": {
          "base_uri": "https://localhost:8080/"
        },
        "id": "xKq_-1IdmFyF",
        "outputId": "ea953f5b-04b8-4ed8-b35d-af2529a63e62"
      },
      "outputs": [
        {
          "name": "stdout",
          "output_type": "stream",
          "text": [
            "\u001b[1m33/33\u001b[0m \u001b[32m━━━━━━━━━━━━━━━━━━━━\u001b[0m\u001b[37m\u001b[0m \u001b[1m0s\u001b[0m 4ms/step\n",
            "[[-0.04760594  0.2941113  -0.4347039  ...  0.02705927  0.13509037\n",
            "   0.2227947 ]\n",
            " [-0.06862333  0.27812204 -0.4220403  ...  0.00163023  0.1069097\n",
            "   0.20796688]\n",
            " [-0.07004015  0.3097249  -0.3995325  ... -0.00509571  0.05887238\n",
            "   0.2557276 ]\n",
            " ...\n",
            " [-0.05177833  0.26716903 -0.4257603  ...  0.02979751  0.14539088\n",
            "   0.23633115]\n",
            " [-0.05386121  0.31895772 -0.44168338 ...  0.00855023  0.12107926\n",
            "   0.20275712]\n",
            " [-0.07467656  0.3234624  -0.392991   ...  0.00855533  0.13406551\n",
            "   0.23780464]]\n"
          ]
        }
      ],
      "source": [
        "embeddings = model.predict([anchor, positive, negative])\n",
        "\n",
        "print(embeddings)"
      ]
    },
    {
      "cell_type": "code",
      "execution_count": 81,
      "metadata": {
        "colab": {
          "base_uri": "https://localhost:8080/"
        },
        "id": "AaBm5IapmFyF",
        "outputId": "70c8da1f-e4aa-437a-cc85-5c140ae4ba7e"
      },
      "outputs": [
        {
          "data": {
            "text/plain": [
              "(1044, 30)"
            ]
          },
          "execution_count": 81,
          "metadata": {},
          "output_type": "execute_result"
        }
      ],
      "source": [
        "embeddings.shape"
      ]
    },
    {
      "cell_type": "code",
      "execution_count": 82,
      "metadata": {
        "id": "eG90rvS9r_vD"
      },
      "outputs": [],
      "source": [
        "model_similarity = cosine_similarity(embeddings)"
      ]
    },
    {
      "cell_type": "code",
      "execution_count": 83,
      "metadata": {
        "colab": {
          "base_uri": "https://localhost:8080/"
        },
        "id": "n0Z1ImG1vOdq",
        "outputId": "b435bc41-11bd-4c3e-bf33-80aeea63d815"
      },
      "outputs": [
        {
          "name": "stdout",
          "output_type": "stream",
          "text": [
            "                  spotify_id  \\\n",
            "11    3QaPy1KgI7nu9FJEQUgn6h   \n",
            "9     35ISBknsCeZQtq66xABI9g   \n",
            "10    0WbMK4wrZ1wFSty9F7FCgu   \n",
            "120   1KZG1H1OCugGqIRmk1wF9m   \n",
            "242   2HBBM75Xv3o2Mqdyh1NcM0   \n",
            "621   5g7TAIGfB6vgbaX8AH19FG   \n",
            "443   2hHeGD57S0BcopfVcmehdl   \n",
            "1027  5IhULiOyG58jL20qWkztEg   \n",
            "67    040I32EKLxQrkuxQu1pqvT   \n",
            "444   0DM63CJEklNPKu6kHGyuEl   \n",
            "126   4OLT65TRsOx3Iv1TlCcQVb   \n",
            "1     4wJ5Qq0jBN4ajy7ouZIV1c   \n",
            "6     2CGNAOSuO1MEFCbBRgUzjd   \n",
            "238   0VaeksJaXy5R1nvcTMh3Xk   \n",
            "215   3vkCueOmm7xQDoJ17W1Pm3   \n",
            "829   4E3XDKil4ElJt6sXuz5cc6   \n",
            "793   7aqfrAY2p9BUSiupwk3svU   \n",
            "311   2dCmGcEOQrMQhMMS8Vj7Ca   \n",
            "183   2OQ6a4CfUeYskpTTgyawyJ   \n",
            "244   5RePVWy39tLpHH0WwXgBsK   \n",
            "\n",
            "                                                   name  \\\n",
            "11                                           WILDFLOWER   \n",
            "9                                                 Messy   \n",
            "10                                     Good Luck, Babe!   \n",
            "120                           Indigo (feat. Avery Anna)   \n",
            "242                                  Heavy Is the Crown   \n",
            "621                                              Mendua   \n",
            "443                                  Hati-Hati di Jalan   \n",
            "1027                                              Dumes   \n",
            "67                                               Saturn   \n",
            "444                                               Yours   \n",
            "126                                          Presidente   \n",
            "1                                                  APT.   \n",
            "6                                     luther (with sza)   \n",
            "238                  Darling, I (feat. Teezo Touchdown)   \n",
            "215                               My Love Mine All Mine   \n",
            "829                                                BURN   \n",
            "793                First Person Shooter (feat. J. Cole)   \n",
            "311                                         Super Freak   \n",
            "183   You Make It Feel Like Christmas (feat. Blake S...   \n",
            "244                                         Rah Tah Tah   \n",
            "\n",
            "                                                artists  \n",
            "11                                        Billie Eilish  \n",
            "9                                            Lola Young  \n",
            "10                                        Chappell Roan  \n",
            "120                              Sam Barber, Avery Anna  \n",
            "242                                         Linkin Park  \n",
            "621                                              Astrid  \n",
            "443                                               Tulus  \n",
            "1027                               OMWAWES, Guyon Waton  \n",
            "67                                                  SZA  \n",
            "444                                         Post Malone  \n",
            "126   Gabito Ballesteros, Natanael Cano, Luis R Conr...  \n",
            "1                                      ROSÉ, Bruno Mars  \n",
            "6                                   Kendrick Lamar, SZA  \n",
            "238                 Tyler, The Creator, Teezo Touchdown  \n",
            "215                                              Mitski  \n",
            "829                           Kanye West, Ty Dolla $ign  \n",
            "793                                      Drake, J. Cole  \n",
            "311                                          Rick James  \n",
            "183                         Gwen Stefani, Blake Shelton  \n",
            "244                                  Tyler, The Creator  \n"
          ]
        }
      ],
      "source": [
        "recommendations = recommend('2plbrEY59IikOBgBGLjaoe', model_similarity, df, 20)\n",
        "\n",
        "print(recommendations)"
      ]
    },
    {
      "cell_type": "code",
      "execution_count": 84,
      "metadata": {
        "colab": {
          "base_uri": "https://localhost:8080/",
          "height": 256
        },
        "id": "eGxIHbaB1fRl",
        "outputId": "05c8cbe0-e6e3-4f48-b6b3-eed52b73fc74"
      },
      "outputs": [
        {
          "data": {
            "text/html": [
              "<div>\n",
              "<style scoped>\n",
              "    .dataframe tbody tr th:only-of-type {\n",
              "        vertical-align: middle;\n",
              "    }\n",
              "\n",
              "    .dataframe tbody tr th {\n",
              "        vertical-align: top;\n",
              "    }\n",
              "\n",
              "    .dataframe thead th {\n",
              "        text-align: right;\n",
              "    }\n",
              "</style>\n",
              "<table border=\"1\" class=\"dataframe\">\n",
              "  <thead>\n",
              "    <tr style=\"text-align: right;\">\n",
              "      <th></th>\n",
              "      <th>spotify_id</th>\n",
              "      <th>0</th>\n",
              "      <th>1</th>\n",
              "      <th>2</th>\n",
              "      <th>3</th>\n",
              "      <th>4</th>\n",
              "      <th>5</th>\n",
              "      <th>6</th>\n",
              "      <th>7</th>\n",
              "      <th>8</th>\n",
              "      <th>...</th>\n",
              "      <th>1034</th>\n",
              "      <th>1035</th>\n",
              "      <th>1036</th>\n",
              "      <th>1037</th>\n",
              "      <th>1038</th>\n",
              "      <th>1039</th>\n",
              "      <th>1040</th>\n",
              "      <th>1041</th>\n",
              "      <th>1042</th>\n",
              "      <th>1043</th>\n",
              "    </tr>\n",
              "  </thead>\n",
              "  <tbody>\n",
              "    <tr>\n",
              "      <th>0</th>\n",
              "      <td>2plbrEY59IikOBgBGLjaoe</td>\n",
              "      <td>1.000000</td>\n",
              "      <td>0.998363</td>\n",
              "      <td>0.995436</td>\n",
              "      <td>0.997044</td>\n",
              "      <td>0.997750</td>\n",
              "      <td>0.994918</td>\n",
              "      <td>0.998356</td>\n",
              "      <td>0.997701</td>\n",
              "      <td>0.995141</td>\n",
              "      <td>...</td>\n",
              "      <td>0.997361</td>\n",
              "      <td>0.997755</td>\n",
              "      <td>0.995053</td>\n",
              "      <td>0.997820</td>\n",
              "      <td>0.997512</td>\n",
              "      <td>0.993936</td>\n",
              "      <td>0.995681</td>\n",
              "      <td>0.997521</td>\n",
              "      <td>0.992653</td>\n",
              "      <td>0.995945</td>\n",
              "    </tr>\n",
              "    <tr>\n",
              "      <th>1</th>\n",
              "      <td>4wJ5Qq0jBN4ajy7ouZIV1c</td>\n",
              "      <td>0.998363</td>\n",
              "      <td>1.000000</td>\n",
              "      <td>0.996643</td>\n",
              "      <td>0.996075</td>\n",
              "      <td>0.998716</td>\n",
              "      <td>0.995840</td>\n",
              "      <td>0.997953</td>\n",
              "      <td>0.997324</td>\n",
              "      <td>0.997928</td>\n",
              "      <td>...</td>\n",
              "      <td>0.998293</td>\n",
              "      <td>0.997541</td>\n",
              "      <td>0.995734</td>\n",
              "      <td>0.996966</td>\n",
              "      <td>0.998791</td>\n",
              "      <td>0.993573</td>\n",
              "      <td>0.994087</td>\n",
              "      <td>0.995774</td>\n",
              "      <td>0.992171</td>\n",
              "      <td>0.995849</td>\n",
              "    </tr>\n",
              "    <tr>\n",
              "      <th>2</th>\n",
              "      <td>6dOtVTDdiauQNBQEDOtlAB</td>\n",
              "      <td>0.995436</td>\n",
              "      <td>0.996643</td>\n",
              "      <td>1.000000</td>\n",
              "      <td>0.992924</td>\n",
              "      <td>0.995463</td>\n",
              "      <td>0.993506</td>\n",
              "      <td>0.995443</td>\n",
              "      <td>0.995666</td>\n",
              "      <td>0.992726</td>\n",
              "      <td>...</td>\n",
              "      <td>0.995585</td>\n",
              "      <td>0.994504</td>\n",
              "      <td>0.993810</td>\n",
              "      <td>0.995548</td>\n",
              "      <td>0.997187</td>\n",
              "      <td>0.992091</td>\n",
              "      <td>0.993265</td>\n",
              "      <td>0.994269</td>\n",
              "      <td>0.990478</td>\n",
              "      <td>0.995701</td>\n",
              "    </tr>\n",
              "    <tr>\n",
              "      <th>3</th>\n",
              "      <td>7ne4VBA60CxGM75vw0EYad</td>\n",
              "      <td>0.997044</td>\n",
              "      <td>0.996075</td>\n",
              "      <td>0.992924</td>\n",
              "      <td>1.000000</td>\n",
              "      <td>0.995819</td>\n",
              "      <td>0.996249</td>\n",
              "      <td>0.996445</td>\n",
              "      <td>0.996336</td>\n",
              "      <td>0.995173</td>\n",
              "      <td>...</td>\n",
              "      <td>0.995965</td>\n",
              "      <td>0.995526</td>\n",
              "      <td>0.990803</td>\n",
              "      <td>0.995055</td>\n",
              "      <td>0.995708</td>\n",
              "      <td>0.993931</td>\n",
              "      <td>0.992888</td>\n",
              "      <td>0.994538</td>\n",
              "      <td>0.987166</td>\n",
              "      <td>0.992802</td>\n",
              "    </tr>\n",
              "    <tr>\n",
              "      <th>4</th>\n",
              "      <td>7tI8dRuH2Yc6RuoTjxo4dU</td>\n",
              "      <td>0.997750</td>\n",
              "      <td>0.998716</td>\n",
              "      <td>0.995463</td>\n",
              "      <td>0.995819</td>\n",
              "      <td>1.000000</td>\n",
              "      <td>0.994088</td>\n",
              "      <td>0.996669</td>\n",
              "      <td>0.996609</td>\n",
              "      <td>0.996197</td>\n",
              "      <td>...</td>\n",
              "      <td>0.995796</td>\n",
              "      <td>0.995749</td>\n",
              "      <td>0.994016</td>\n",
              "      <td>0.996536</td>\n",
              "      <td>0.997809</td>\n",
              "      <td>0.993367</td>\n",
              "      <td>0.993848</td>\n",
              "      <td>0.995733</td>\n",
              "      <td>0.989868</td>\n",
              "      <td>0.992378</td>\n",
              "    </tr>\n",
              "  </tbody>\n",
              "</table>\n",
              "<p>5 rows × 1045 columns</p>\n",
              "</div>"
            ],
            "text/plain": [
              "               spotify_id         0         1         2         3         4  \\\n",
              "0  2plbrEY59IikOBgBGLjaoe  1.000000  0.998363  0.995436  0.997044  0.997750   \n",
              "1  4wJ5Qq0jBN4ajy7ouZIV1c  0.998363  1.000000  0.996643  0.996075  0.998716   \n",
              "2  6dOtVTDdiauQNBQEDOtlAB  0.995436  0.996643  1.000000  0.992924  0.995463   \n",
              "3  7ne4VBA60CxGM75vw0EYad  0.997044  0.996075  0.992924  1.000000  0.995819   \n",
              "4  7tI8dRuH2Yc6RuoTjxo4dU  0.997750  0.998716  0.995463  0.995819  1.000000   \n",
              "\n",
              "          5         6         7         8  ...      1034      1035      1036  \\\n",
              "0  0.994918  0.998356  0.997701  0.995141  ...  0.997361  0.997755  0.995053   \n",
              "1  0.995840  0.997953  0.997324  0.997928  ...  0.998293  0.997541  0.995734   \n",
              "2  0.993506  0.995443  0.995666  0.992726  ...  0.995585  0.994504  0.993810   \n",
              "3  0.996249  0.996445  0.996336  0.995173  ...  0.995965  0.995526  0.990803   \n",
              "4  0.994088  0.996669  0.996609  0.996197  ...  0.995796  0.995749  0.994016   \n",
              "\n",
              "       1037      1038      1039      1040      1041      1042      1043  \n",
              "0  0.997820  0.997512  0.993936  0.995681  0.997521  0.992653  0.995945  \n",
              "1  0.996966  0.998791  0.993573  0.994087  0.995774  0.992171  0.995849  \n",
              "2  0.995548  0.997187  0.992091  0.993265  0.994269  0.990478  0.995701  \n",
              "3  0.995055  0.995708  0.993931  0.992888  0.994538  0.987166  0.992802  \n",
              "4  0.996536  0.997809  0.993367  0.993848  0.995733  0.989868  0.992378  \n",
              "\n",
              "[5 rows x 1045 columns]"
            ]
          },
          "execution_count": 84,
          "metadata": {},
          "output_type": "execute_result"
        }
      ],
      "source": [
        "results = pd.concat([df['spotify_id'], pd.DataFrame(model_similarity)], axis=1)\n",
        "\n",
        "results.head()"
      ]
    },
    {
      "cell_type": "code",
      "execution_count": 85,
      "metadata": {
        "id": "AGH42a5R6nZ8"
      },
      "outputs": [],
      "source": [
        "results.to_csv('results.csv', index=False)"
      ]
    },
    {
      "cell_type": "code",
      "execution_count": 86,
      "metadata": {
        "id": "VyaTtVqd7psu"
      },
      "outputs": [],
      "source": [
        "model.save('model.keras')"
      ]
    },
    {
      "cell_type": "code",
      "execution_count": 87,
      "metadata": {
        "colab": {
          "base_uri": "https://localhost:8080/",
          "height": 206
        },
        "id": "rFi7i9zxJbof",
        "outputId": "06880040-6839-40c7-d816-6178746d8d70"
      },
      "outputs": [
        {
          "data": {
            "text/html": [
              "<div>\n",
              "<style scoped>\n",
              "    .dataframe tbody tr th:only-of-type {\n",
              "        vertical-align: middle;\n",
              "    }\n",
              "\n",
              "    .dataframe tbody tr th {\n",
              "        vertical-align: top;\n",
              "    }\n",
              "\n",
              "    .dataframe thead th {\n",
              "        text-align: right;\n",
              "    }\n",
              "</style>\n",
              "<table border=\"1\" class=\"dataframe\">\n",
              "  <thead>\n",
              "    <tr style=\"text-align: right;\">\n",
              "      <th></th>\n",
              "      <th>spotify_id</th>\n",
              "      <th>name</th>\n",
              "      <th>artists</th>\n",
              "      <th>album_name</th>\n",
              "      <th>duration_ms</th>\n",
              "      <th>album_release_date</th>\n",
              "    </tr>\n",
              "  </thead>\n",
              "  <tbody>\n",
              "    <tr>\n",
              "      <th>0</th>\n",
              "      <td>2plbrEY59IikOBgBGLjaoe</td>\n",
              "      <td>Die With A Smile</td>\n",
              "      <td>Lady Gaga, Bruno Mars</td>\n",
              "      <td>Die With A Smile</td>\n",
              "      <td>251667</td>\n",
              "      <td>2024-08-16</td>\n",
              "    </tr>\n",
              "    <tr>\n",
              "      <th>1</th>\n",
              "      <td>4wJ5Qq0jBN4ajy7ouZIV1c</td>\n",
              "      <td>APT.</td>\n",
              "      <td>ROSÉ, Bruno Mars</td>\n",
              "      <td>rosie</td>\n",
              "      <td>169917</td>\n",
              "      <td>2024-12-06</td>\n",
              "    </tr>\n",
              "    <tr>\n",
              "      <th>2</th>\n",
              "      <td>6dOtVTDdiauQNBQEDOtlAB</td>\n",
              "      <td>BIRDS OF A FEATHER</td>\n",
              "      <td>Billie Eilish</td>\n",
              "      <td>HIT ME HARD AND SOFT</td>\n",
              "      <td>210373</td>\n",
              "      <td>2024-05-17</td>\n",
              "    </tr>\n",
              "    <tr>\n",
              "      <th>3</th>\n",
              "      <td>7ne4VBA60CxGM75vw0EYad</td>\n",
              "      <td>That’s So True</td>\n",
              "      <td>Gracie Abrams</td>\n",
              "      <td>The Secret of Us (Deluxe)</td>\n",
              "      <td>166300</td>\n",
              "      <td>2024-10-18</td>\n",
              "    </tr>\n",
              "    <tr>\n",
              "      <th>4</th>\n",
              "      <td>7tI8dRuH2Yc6RuoTjxo4dU</td>\n",
              "      <td>Who</td>\n",
              "      <td>Jimin</td>\n",
              "      <td>MUSE</td>\n",
              "      <td>170887</td>\n",
              "      <td>2024-07-19</td>\n",
              "    </tr>\n",
              "  </tbody>\n",
              "</table>\n",
              "</div>"
            ],
            "text/plain": [
              "               spotify_id                name                artists  \\\n",
              "0  2plbrEY59IikOBgBGLjaoe    Die With A Smile  Lady Gaga, Bruno Mars   \n",
              "1  4wJ5Qq0jBN4ajy7ouZIV1c                APT.       ROSÉ, Bruno Mars   \n",
              "2  6dOtVTDdiauQNBQEDOtlAB  BIRDS OF A FEATHER          Billie Eilish   \n",
              "3  7ne4VBA60CxGM75vw0EYad      That’s So True          Gracie Abrams   \n",
              "4  7tI8dRuH2Yc6RuoTjxo4dU                 Who                  Jimin   \n",
              "\n",
              "                  album_name  duration_ms album_release_date  \n",
              "0           Die With A Smile       251667         2024-08-16  \n",
              "1                      rosie       169917         2024-12-06  \n",
              "2       HIT ME HARD AND SOFT       210373         2024-05-17  \n",
              "3  The Secret of Us (Deluxe)       166300         2024-10-18  \n",
              "4                       MUSE       170887         2024-07-19  "
            ]
          },
          "execution_count": 87,
          "metadata": {},
          "output_type": "execute_result"
        }
      ],
      "source": [
        "database = df[['spotify_id', 'name', 'artists', 'album_name', 'duration_ms', 'album_release_date']]\n",
        "\n",
        "database.head()"
      ]
    },
    {
      "cell_type": "code",
      "execution_count": 88,
      "metadata": {
        "id": "YK47pYZIKKh1"
      },
      "outputs": [],
      "source": [
        "database.to_csv('data.csv', index=False)"
      ]
    }
  ],
  "metadata": {
    "accelerator": "TPU",
    "colab": {
      "gpuType": "V28",
      "provenance": []
    },
    "kernelspec": {
      "display_name": "Capstone",
      "language": "python",
      "name": "python3"
    },
    "language_info": {
      "codemirror_mode": {
        "name": "ipython",
        "version": 3
      },
      "file_extension": ".py",
      "mimetype": "text/x-python",
      "name": "python",
      "nbconvert_exporter": "python",
      "pygments_lexer": "ipython3",
      "version": "3.12.7"
    }
  },
  "nbformat": 4,
  "nbformat_minor": 0
}
